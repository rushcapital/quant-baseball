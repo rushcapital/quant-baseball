{
 "cells": [
  {
   "cell_type": "code",
   "execution_count": 14,
   "metadata": {},
   "outputs": [],
   "source": [
    "import requests\n",
    "from bs4 import BeautifulSoup\n",
    "import re\n",
    "import string\n",
    "import json\n",
    "\n",
    "def get_var(text, var):\n",
    "    \"\"\"\n",
    "    :type text: str\n",
    "    :type var: str\n",
    "    :rtype: str\n",
    "    \"\"\"\n",
    "    pattern = 'var\\s+' + var.rstrip() + '\\s+?=\\s+?{'\n",
    "    open_token_found = False\n",
    "    block = '{'\n",
    "    for line in text.splitlines():\n",
    "        line = line.strip()\n",
    "        if not line:\n",
    "            continue\n",
    "        if open_token_found:\n",
    "            if re.match('};', line):\n",
    "                block += '}'\n",
    "                break\n",
    "            else:\n",
    "                segments = line.split(':', 1)\n",
    "                key = segments[0]\n",
    "                if key[0] != '\"':\n",
    "                    key = '\"' + key\n",
    "                if key[-1] != '\"':\n",
    "                    key = key + '\"'\n",
    "                block += key + ':' + segments[1]\n",
    "        elif re.match(pattern, line):\n",
    "                open_token_found = True\n",
    "\n",
    "    if block[-2] == ',':\n",
    "        block = block[:-2] + '}'\n",
    "\n",
    "    # edge case: O'Hearn throws JSONDecodeError\n",
    "    if 'O\"' in block:\n",
    "        block = block.replace('O\"',\"O'\")\n",
    "\n",
    "    return json.loads(block)\n",
    "\n",
    "# function that takes in a pitchers baseball savant pitching profile and parses out various stats/data.\n",
    "def parse_bs_pitcher_script(url):\n",
    "\n",
    "    response = requests.get(url)\n",
    "    soup = BeautifulSoup(response.text, \"html.parser\")\n",
    "\n",
    "    # find the javascript section based on unique identifier: var serverVals =\n",
    "    script = [script.text for script in soup.find_all('script') if 'var serverVals =' in script.text][0].replace(\"'\",'\"').replace(\"null\",\"0\")\n",
    "    \n",
    "    data_dict = get_var(script, 'serverVals')\n",
    "\n",
    "    return data_dict\n",
    "if __name__ == '__main__':\n",
    "\n",
    "    _ = parse_bs_pitcher_script('https://baseballsavant.mlb.com/savant-player/gerrit-cole-543037?stats=statcast-r-pitching-mlb')"
   ]
  }
 ],
 "metadata": {
  "interpreter": {
   "hash": "e011ff45b026eeda34f61f1af40e8d10c36da8bcb30013a241d98cbe0fa4d907"
  },
  "kernelspec": {
   "display_name": "Python 3.9.10 64-bit",
   "language": "python",
   "name": "python3"
  },
  "language_info": {
   "codemirror_mode": {
    "name": "ipython",
    "version": 3
   },
   "file_extension": ".py",
   "mimetype": "text/x-python",
   "name": "python",
   "nbconvert_exporter": "python",
   "pygments_lexer": "ipython3",
   "version": "3.9.10"
  },
  "orig_nbformat": 4
 },
 "nbformat": 4,
 "nbformat_minor": 2
}
