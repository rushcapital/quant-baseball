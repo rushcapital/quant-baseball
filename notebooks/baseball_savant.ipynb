{
 "cells": [
  {
   "cell_type": "code",
   "execution_count": 81,
   "metadata": {},
   "outputs": [
    {
     "data": {
      "image/png": "[encoded data removed]",
      "text/plain": [
       "<Figure size 432x288 with 1 Axes>"
      ]
     },
     "metadata": {
      "needs_background": "light"
     },
     "output_type": "display_data"
    }
   ],
   "source": [
    "import pandas as pd\n",
    "import numpy as np\n",
    "import matplotlib.pyplot as plt\n",
    "import tensorflow as tf\n",
    "from sklearn.model_selection import train_test_split\n",
    "\n",
    "# from baseball savant, parse out the pitcher csv file downloaded.\n",
    "\n",
    "pitching_stats = pd.read_csv('../../datasets/baseball savant/pitching stats.csv').dropna()\n",
    "hitting_stats = pd.read_csv('../../datasets/baseball savant/hitting stats.csv')\n",
    "\n",
    "# remove unnamed columns then rows with nan\n",
    "hitting_stats = hitting_stats.dropna(how='all', axis='columns').dropna()\n",
    "\n",
    "# we need to derive ALOT of normalized variables, each w.r.t. the amount of PA's\n",
    "\n",
    "percent_cols = [col for col in hitting_stats.columns if 'percent' in col]\n",
    "\n",
    "# percents that are actually already in decimal: slg%, ob%, so just fix everything else.\n",
    "\n",
    "percent_cols = [col for col in percent_cols if col not in ['slg_percent', 'on_base_percent']]\n",
    "\n",
    "# add in barrel_batted_rate as well\n",
    "percent_cols.append('barrel_batted_rate')\n",
    "\n",
    "hitting_stats[percent_cols] = hitting_stats[percent_cols].apply(lambda x: x/100)\n",
    "\n",
    "# what avg's are we working with (yeah i could just look at the csv, but that shit makes me dizzy)\n",
    "\n",
    "avg_cols = [col for col in hitting_stats.columns if 'avg' in col and 'batting_avg' not in col]\n",
    "\n",
    "# define our predictor variable, which is runs/PA\n",
    "\n",
    "hitting_stats['runs/PA'] =  hitting_stats['r_run'] / hitting_stats['b_total_pa']\n",
    "\n",
    "# define the set of features we want to model for.\n",
    "\n",
    "# features = ['b_k_percent', 'b_bb_percent', 'exit_velocity_avg', 'launch_angle_avg', 'sweet_spot_percent', 'barrel_batted_rate', 'solidcontact_percent',\n",
    "#             'flareburner_percent', 'poorlyunder_percent', 'poorlytopped_percent', 'poorlyweak_percent', 'hard_hit_percent', 'z_swing_percent',\n",
    "#             'z_swing_miss_percent', 'oz_swing_percent','oz_swing_miss_percent', 'oz_contact_percent', 'meatball_swing_percent', 'iz_contact_percent',\n",
    "#             'whiff_percent', 'swing_percent', 'pull_percent', 'straightaway_percent', 'opposite_percent', 'f_strike_percent', 'groundballs_percent', \n",
    "#             'flyballs_percent', 'linedrives_percent', 'popups_percent', 'sprint_speed', 'runs/PA']\n",
    "\n",
    "features = ['b_k_percent', 'b_bb_percent', 'exit_velocity_avg', 'launch_angle_avg', 'solidcontact_percent',\n",
    "            'sprint_speed','whiff_percent', 'oz_swing_percent','meatball_swing_percent','iz_contact_percent', 'linedrives_percent', 'woba']\n",
    "\n",
    "dataset = hitting_stats[features]\n",
    "\n",
    "train_dataset = dataset.sample(frac=0.9, random_state=0)\n",
    "test_dataset = dataset.drop(train_dataset.index)\n",
    "\n",
    "train_features = train_dataset.copy()\n",
    "test_features = test_dataset.copy()\n",
    "\n",
    "train_labels = train_features.pop('woba')\n",
    "test_labels = test_features.pop('woba')\n",
    "\n",
    "# ok, normalize dis hoe (run me that z-score bruh).\n",
    "\n",
    "normalizer = tf.keras.layers.Normalization(axis=-1)\n",
    "normalizer.adapt(np.array(train_features))\n",
    "\n",
    "def build_and_compile_model(norm):\n",
    "  model = tf.keras.Sequential([\n",
    "      norm,\n",
    "      tf.keras.layers.Dense(64, activation='relu'),\n",
    "      tf.keras.layers.Dense(64, activation='relu'),\n",
    "      tf.keras.layers.Dense(1)\n",
    "  ])\n",
    "\n",
    "  model.compile(loss='mean_absolute_error',\n",
    "                optimizer=tf.keras.optimizers.Adam(0.0005))\n",
    "  return model\n",
    "\n",
    "dnn_model = build_and_compile_model(normalizer)\n",
    "\n",
    "history = dnn_model.fit(\n",
    "    train_features,\n",
    "    train_labels,\n",
    "    validation_split=0.2,\n",
    "    verbose=0, epochs=100)\n",
    "\n",
    "def plot_loss(history):\n",
    "  plt.plot(history.history['loss'], label='loss')\n",
    "  plt.plot(history.history['val_loss'], label='val_loss')\n",
    "  plt.xlabel('Epoch')\n",
    "  plt.ylabel('Error [wOBA]')\n",
    "  plt.legend()\n",
    "  plt.grid(True)\n",
    "\n",
    "plot_loss(history)\n",
    "\n",
    "# test_predictions = dnn_model.predict(test_features).flatten()\n",
    "\n",
    "# a = plt.axes(aspect='equal')\n",
    "# plt.scatter(test_labels, test_predictions)\n",
    "# plt.xlabel('True Values (runs/PA)')\n",
    "# plt.ylabel('Predictions (runs/PA)')"
   ]
  }
 ],
 "metadata": {
  "interpreter": {
   "hash": "bbc12c53a9d6275dff530b7ee635959a53250dbe432a258f19f50f2262d6d3ce"
  },
  "kernelspec": {
   "display_name": "Python 3.9.10 64-bit",
   "language": "python",
   "name": "python3"
  },
  "language_info": {
   "codemirror_mode": {
    "name": "ipython",
    "version": 3
   },
   "file_extension": ".py",
   "mimetype": "text/x-python",
   "name": "python",
   "nbconvert_exporter": "python",
   "pygments_lexer": "ipython3",
   "version": "3.9.10"
  },
  "orig_nbformat": 4
 },
 "nbformat": 4,
 "nbformat_minor": 2
}
